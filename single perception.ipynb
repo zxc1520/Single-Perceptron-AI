{
 "cells": [
  {
   "cell_type": "code",
   "execution_count": 1,
   "id": "773b15d8",
   "metadata": {},
   "outputs": [],
   "source": [
    "import matplotlib.pyplot as plt\n",
    "import numpy as np\n",
    "import random"
   ]
  },
  {
   "cell_type": "code",
   "execution_count": null,
   "id": "3d5b54c8",
   "metadata": {},
   "outputs": [],
   "source": [
    "#Weight\n",
    "w = [0, 0]\n",
    "\n",
    "#Thresold\n",
    "thresold = 0\n",
    "\n",
    "#Bias\n",
    "bias = 1\n",
    "\n",
    "#Learning rate\n",
    "learning_rate = 1\n",
    "\n",
    "#max number of iteration\n",
    "max_iteration = 100\n",
    "\n",
    "# inputs and label\n",
    "x = [\n",
    "    [0.72, 0.82, -1],\n",
    "    [0.91, -0.69, -1],\n",
    "    [0.03, 0.93, -1],\n",
    "    [0.12, 0.25, -1],\n",
    "    [0.96, 0.47, -1],\n",
    "    [0.8, -0.75, -1],\n",
    "    [0.46, 0.98, -1],\n",
    "    [0.66, 0.24, -1],\n",
    "    [0.72, 0.15, -1],\n",
    "    [0.35, 0.01, -1],\n",
    "    [-0.11, 0.1, 1],\n",
    "    [0.31, -0.96, 1],\n",
    "    [0.0, ]\n",
    "]"
   ]
  }
 ],
 "metadata": {
  "kernelspec": {
   "display_name": "Python 3 (ipykernel)",
   "language": "python",
   "name": "python3"
  },
  "language_info": {
   "codemirror_mode": {
    "name": "ipython",
    "version": 3
   },
   "file_extension": ".py",
   "mimetype": "text/x-python",
   "name": "python",
   "nbconvert_exporter": "python",
   "pygments_lexer": "ipython3",
   "version": "3.9.7"
  }
 },
 "nbformat": 4,
 "nbformat_minor": 5
}
